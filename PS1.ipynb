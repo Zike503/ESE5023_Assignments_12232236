{
 "cells": [
  {
   "cell_type": "code",
   "execution_count": 5,
   "id": "8ae5edcd-4fd5-484c-a643-4eebbed77407",
   "metadata": {},
   "outputs": [
    {
     "name": "stdout",
     "output_type": "stream",
     "text": [
      "随机数A= 72 随机数B= 7 随机数C= 31\n",
      "Result= 33\n",
      "题目给定数值及计算结果：\n",
      "Result= 5\n"
     ]
    }
   ],
   "source": [
    "#1Flowchart\n",
    "#define a function\n",
    "def Print_values(a,b,c):\n",
    "    if a>b:\n",
    "        if b>c:\n",
    "            Y1=a+b-10*c\n",
    "            print('Result=',Y1)\n",
    "        elif a>c:\n",
    "            Y2=a+c-10*b\n",
    "            print('Result=',Y2)\n",
    "        else:\n",
    "            Y3=c+a-10*b\n",
    "            print('Result=',Y3)\n",
    "    else:\n",
    "        if b>c:\n",
    "            print('No Result')\n",
    "        else:\n",
    "            Y4=c+b-10*a\n",
    "            print('Result=',Y4)\n",
    "            \n",
    "import random\n",
    "#I got inspired by visiting the website(https://www.runoob.com/python3/python-random.html)\n",
    "A=random.randint(1,100)\n",
    "B=random.randint(1,100)\n",
    "C=random.randint(1,100)\n",
    "print('随机数A=',A,'随机数B=',B,'随机数C=',C)\n",
    "Print_values(A,B,C)\n",
    "            \n",
    "print('题目给定数值及计算结果：')        \n",
    "a=10\n",
    "b=5\n",
    "c=1\n",
    "Print_values(a,b,c)"
   ]
  },
  {
   "cell_type": "code",
   "execution_count": 6,
   "id": "60970021-9872-482a-ab72-bca0bda536e7",
   "metadata": {},
   "outputs": [
    {
     "name": "stdin",
     "output_type": "stream",
     "text": [
      "请输入整数： 3\n"
     ]
    },
    {
     "name": "stdout",
     "output_type": "stream",
     "text": [
      "F(x)= [1, 5, 7]\n"
     ]
    }
   ],
   "source": [
    "#2. Continuous celing function\n",
    "from math import ceil  #百度ceil为向上取整函数\n",
    "\n",
    "N=int(input('请输入整数：'))  #输入整数N,\n",
    "\n",
    "#我在定义F(x)时又调用了F(x)，所以提示错误，向我的朋友温晓然询问，她让我建一个列表来存储函数值，之后将其代入公式计算\n",
    "\n",
    "res=[0]*N  #创建一个存储F（X）的列表，初始化为N个零元素\n",
    "res[0]=1  #题目给出F(1)=1，所以将其储存到列表中\n",
    "for i in range(1,N):\n",
    "    x=i+1\n",
    "    res[i]=res[(ceil(x/3)-1)]+2*x  #循环计算F(2~N)，对应为res(1~N-1),F(ceil(x/3))对应为res(ceil(x/3)-1)\n",
    "print('F(x)=',res)"
   ]
  },
  {
   "cell_type": "code",
   "execution_count": 14,
   "id": "a0b60f0e-6f1f-4ae5-ac67-75253d5abb7e",
   "metadata": {},
   "outputs": [
    {
     "name": "stdout",
     "output_type": "stream",
     "text": [
      "3.1number of ways= 1\n",
      "\n",
      "\n",
      "3.2 [1, 10, 55, 220, 715, 2002, 4995, 11340, 23760, 46420, 85228, 147940, 243925, 383470, 576565, 831204, 1151370, 1535040, 1972630, 2446300, 2930455, 3393610, 3801535, 4121260, 4325310, 4395456, 4325310, 4121260, 3801535, 3393610, 2930455, 2446300, 1972630, 1535040, 1151370, 831204, 576565, 383470, 243925, 147940, 85228, 46420, 23760, 11340, 4995, 2002, 715, 220, 55, 10, 1]\n",
      "面数总和为35时，取得最多路径4395456\n"
     ]
    }
   ],
   "source": [
    "#3.1Dice rolling\n",
    "#定义函数，m=面数，n=筛子个数，x=面数和\n",
    "def Find_number_of_ways(m,n,x):\n",
    "    #温晓然告诉我创建一个初始表格来放递归中的子问题，表格外围多创建一行一列，便于计算，筛子个数为行索引，总和为列索引\n",
    "    table=[[0]*(x+1) for i in range(n+1)] \n",
    "    for j in range(1,min(m+1,x+1)): \n",
    "        #当筛子个数是一时，只有一种路径\n",
    "        table[1][j]=1\n",
    "    # 填充表格，i: 筛子数, j: 总和\n",
    "    for i in range(2,n+1):\n",
    "        for j in range(1,x+1):\n",
    "            for k in range(1,min(m+1,j)):\n",
    "                table[i][j]+=table[i-1][j-k]\n",
    "    return table[-1][-1]\n",
    "m=6\n",
    "n=10\n",
    "x=10\n",
    "print('3.1number of ways=',Find_number_of_ways(m,n,x))\n",
    "print('\\n')\n",
    "#3.2 Dice rolling\n",
    "#筛子面数及个数m,n\n",
    "m=6\n",
    "n=10\n",
    "#定义一个空列表，将每个x对应的次数都放入列表中\n",
    "Number_of_ways=[]\n",
    "for x in range(10,61):\n",
    "    Number_of_ways.append(Find_number_of_ways(m,n,x))\n",
    "print('3.2',Number_of_ways)\n",
    "Xmax=Number_of_ways.index(max(Number_of_ways))+10\n",
    "print('面数总和为'+str(Xmax)+'时，取得最多路径'+str(max(Number_of_ways)))"
   ]
  },
  {
   "cell_type": "code",
   "execution_count": 15,
   "id": "a7dcadc1-1565-4175-b3a7-ccd477a27d0c",
   "metadata": {},
   "outputs": [
    {
     "name": "stdin",
     "output_type": "stream",
     "text": [
      "请输入一个整数： 3\n"
     ]
    },
    {
     "name": "stdout",
     "output_type": "stream",
     "text": [
      "4.1\n",
      "array= [1, 0, 1]\n",
      "4.2\n",
      "子集分别为： [[], [1], [0], [1, 0], [1], [1, 1], [0, 1], [1, 0, 1]]\n",
      "子集平均值列表为： [1.0, 0.0, 0.5, 1.0, 1.0, 0.5, 0.6666666666666666]\n",
      "子集平均值和为： 4.666666666666667\n"
     ]
    }
   ],
   "source": [
    "#4.1Dynamic programming\n",
    "from array import array  \n",
    "import random\n",
    "#输入一个整数\n",
    "N=int(input('请输入一个整数：'))\n",
    "#初始化数组\n",
    "res=[0]*N  #温晓然告诉我这种方法，先得到一个原始数组，然后填充每个数组的值\n",
    "#定义一个函数使得数组中每个值被随机生成的数替代\n",
    "def Random_integer():\n",
    "    for i in range(N):\n",
    "        res[i]=random.randint(0,10)\n",
    "Random_integer()\n",
    "print('4.1\\narray=',res)\n",
    "\n",
    "#4.2Dynamic programming\n",
    "list=res\n",
    "#计算集合的所有子集\n",
    "#计算集合的所有子集方法：https://wenku.baidu.com/view/2123705b59cfa1c7aa00b52acfc789eb172d9ec0.html\n",
    "sub_lists = [] # 存放集合的所有子集\n",
    "for i in range(1<<len(list)):  # 1<<len(list)，range函数里的相当于2^(len(list))，即循环2^N（子集个数）次 ，<<是左移操作\n",
    "    combo_list = [] # 存放每个循环中取出的子集\n",
    "    for j in range(len(list)):\n",
    "        if i & (1<<j):   #左移动运算符：运算数的各二进位全部左移若干位，由 << 右边的数字指定了移动的位数，高位丢弃，低位补0。\n",
    "            combo_list.append(list[j])\n",
    "    sub_lists.append(combo_list)\n",
    "print('4.2\\n子集分别为：',sub_lists)\n",
    "\n",
    "# 定义计算单个集合平均值的函数\n",
    "def Cal_average(list):\n",
    "    sum = 0\n",
    "    for i in list:\n",
    "        sum += i\n",
    "    avg = sum/len(list)\n",
    "    return avg\n",
    "\n",
    "# 计算所有子集平均值的函数\n",
    "def Sum_averages(sublists):\n",
    "    res = [0] * (len(sublists)-1)\n",
    "    i = 0 \n",
    "    for slist in sublists:\n",
    "        if(len(slist) != 0): # 排除空集\n",
    "            res[i] = Cal_average(slist)\n",
    "            i = i+1\n",
    "    print('子集平均值列表为：',res)\n",
    "    sum=0\n",
    "    for i in res:\n",
    "        sum+=i\n",
    "    return sum\n",
    "   \n",
    "print('子集平均值和为：',Sum_averages(sub_lists))"
   ]
  },
  {
   "cell_type": "code",
   "execution_count": 18,
   "id": "1a480154-31c6-4c90-9c72-a7ce4f41f89b",
   "metadata": {},
   "outputs": [
    {
     "name": "stdin",
     "output_type": "stream",
     "text": [
      "4.1\n",
      "请输入一个数 3\n"
     ]
    },
    {
     "name": "stdout",
     "output_type": "stream",
     "text": [
      "[6, 4, 0]\n"
     ]
    },
    {
     "name": "stdin",
     "output_type": "stream",
     "text": [
      "4.2\n",
      "请输入一个数 3\n"
     ]
    },
    {
     "name": "stdout",
     "output_type": "stream",
     "text": [
      "子集平均值和 4.666666666666667\n",
      "4.3\n"
     ]
    },
    {
     "data": {
      "image/png": "[encoded data removed]",
      "text/plain": [
       "<Figure size 432x288 with 1 Axes>"
      ]
     },
     "metadata": {
      "needs_background": "light"
     },
     "output_type": "display_data"
    }
   ],
   "source": [
    "#4.3Dynamic programming \n",
    "#又重写了一遍……\n",
    "#4.1 Dynamic programming \n",
    "def Random_integer(N):\n",
    "    list=[]\n",
    "    for i in range(N):\n",
    "        list.append(random.randint(0,10))\n",
    "    return list\n",
    "N=int(input('4.1\\n请输入一个数'))\n",
    "print(Random_integer(N))\n",
    "    \n",
    "#4.2 Dynamic programming \n",
    "#在做第三题的时候运行不出来，所以又重新找了一种方法https://www.geeksforgeeks.org/sum-average-subsets/?ref=gcse\n",
    "#文中总结了子集平均值求和的公式，使用二项式，C(n, k)\n",
    "def nCr(n, k):\n",
    "    C = [[0 for i in range(k + 1)]\n",
    "            for j in range(n + 1)]\n",
    "    # 计算二项值的方法\n",
    "    for i in range(n + 1):\n",
    "        for j in range(min(i, k) + 1):\n",
    "            if (j == 0 or j == i):\n",
    "                C[i][j] = 1 \n",
    "            else:\n",
    "                C[i][j] = C[i-1][j-1] + C[i-1][j]  # 基于存储的值计算C[i][j]   \n",
    "    return C[n][k]\n",
    " \n",
    "# 求所有子集平均值的和\n",
    "def Sum_averages(arr, m):\n",
    "    result = 0.0  # 初始化结果\n",
    "    sum = 0\n",
    "    for i in range(m):\n",
    "        sum += arr[i]\n",
    " \n",
    "    # 对元素个数相同的子集进行循环\n",
    "    for n in range(1, m + 1):\n",
    "        result += (sum * (nCr(m - 1, n - 1))) / n\n",
    "    return result\n",
    "N=int(input('4.2\\n请输入一个数'))\n",
    "arr=Random_integer(N)\n",
    "m=len(arr)\n",
    "print('子集平均值和',Sum_averages(arr, m))\n",
    "\n",
    "#4.3 Dynamic programming \n",
    "import matplotlib.pyplot as plt\n",
    "print('4.3')\n",
    "Total_sum_averages=[]\n",
    "for i in range(1,101):\n",
    "    arr2=Random_integer(i)\n",
    "    \n",
    "    Total_sum_averages.append(Sum_averages(arr2, i))\n",
    "#绘图\n",
    "row = [i for i in range(1,101)]\n",
    "plt.plot(row, Total_sum_averages)\n",
    "plt.show()"
   ]
  },
  {
   "cell_type": "code",
   "execution_count": 4,
   "id": "09baf79a-77a8-4112-a72f-c0f0da4ad8b7",
   "metadata": {},
   "outputs": [
    {
     "name": "stdout",
     "output_type": "stream",
     "text": [
      "5.1题：\n",
      " [[1 1 1 1]\n",
      " [0 1 1 0]\n",
      " [1 1 0 1]\n",
      " [1 1 1 1]]\n"
     ]
    },
    {
     "name": "stdin",
     "output_type": "stream",
     "text": [
      "5.2题请输入N的值： 3\n",
      "5.2题请输入M的值： 3\n"
     ]
    },
    {
     "name": "stdout",
     "output_type": "stream",
     "text": [
      "[[1 1 0]\n",
      " [1 1 0]\n",
      " [0 1 1]]\n",
      "路径数为： 2\n"
     ]
    },
    {
     "name": "stdin",
     "output_type": "stream",
     "text": [
      "5.3题请输入N的值： 10\n",
      "5.3题请输入M的值： 8\n"
     ]
    },
    {
     "name": "stdout",
     "output_type": "stream",
     "text": [
      "[0, 0, 0, 0, 0, 0, 0, 0, 0, 0, 0, 0, 0, 1, 0, 0, 0, 0, 0, 0, 0, 0, 0, 0, 0, 0, 0, 0, 0, 0, 0, 0, 0, 0, 0, 0, 0, 0, 0, 0, 0, 0, 0, 0, 0, 0, 0, 0, 0, 0, 0, 0, 0, 0, 0, 0, 0, 0, 0, 0, 0, 0, 0, 0, 0, 0, 0, 0, 0, 0, 0, 0, 0, 0, 0, 0, 0, 0, 0, 0, 0, 0, 0, 0, 0, 0, 11, 0, 0, 0, 0, 0, 0, 14, 0, 0, 0, 0, 0, 0, 0, 0, 0, 0, 0, 0, 0, 0, 0, 0, 0, 0, 0, 0, 0, 0, 0, 0, 0, 0, 0, 0, 0, 0, 0, 0, 0, 0, 0, 0, 0, 1, 0, 0, 0, 0, 0, 0, 0, 0, 0, 0, 0, 0, 0, 0, 0, 0, 0, 0, 0, 0, 0, 0, 0, 0, 0, 0, 14, 0, 0, 0, 0, 0, 0, 0, 0, 0, 0, 0, 0, 0, 0, 0, 0, 0, 0, 0, 0, 0, 0, 0, 0, 0, 0, 5, 0, 0, 0, 0, 0, 0, 0, 0, 0, 0, 0, 0, 0, 0, 0, 0, 0, 0, 0, 0, 0, 0, 0, 0, 0, 0, 0, 0, 0, 0, 0, 0, 0, 0, 0, 0, 0, 0, 0, 0, 0, 0, 0, 0, 0, 0, 0, 0, 0, 0, 0, 0, 0, 120, 0, 0, 0, 0, 0, 0, 0, 0, 0, 0, 0, 0, 0, 0, 0, 0, 0, 0, 0, 0, 0, 0, 0, 0, 0, 0, 0, 0, 0, 0, 0, 0, 0, 0, 0, 0, 0, 0, 0, 0, 0, 0, 0, 0, 0, 0, 0, 0, 0, 0, 0, 0, 0, 36, 0, 0, 0, 0, 0, 0, 0, 0, 0, 0, 0, 0, 0, 0, 0, 0, 0, 0, 0, 0, 0, 0, 0, 0, 0, 0, 0, 0, 0, 0, 0, 0, 0, 0, 0, 0, 0, 4, 0, 0, 0, 0, 0, 0, 0, 0, 0, 0, 0, 0, 0, 0, 0, 0, 0, 0, 0, 0, 0, 0, 0, 0, 0, 0, 0, 0, 0, 0, 0, 0, 0, 0, 0, 0, 0, 0, 0, 0, 0, 0, 0, 0, 0, 0, 0, 0, 0, 0, 0, 0, 0, 1, 0, 0, 0, 0, 0, 0, 0, 0, 0, 0, 0, 0, 0, 0, 0, 0, 0, 0, 0, 0, 0, 0, 0, 0, 0, 0, 0, 0, 0, 0, 0, 0, 0, 0, 0, 3, 0, 0, 0, 0, 0, 0, 0, 0, 0, 0, 0, 0, 0, 0, 0, 0, 0, 0, 0, 0, 0, 0, 0, 0, 0, 0, 0, 0, 0, 0, 0, 0, 0, 0, 0, 0, 0, 0, 0, 6, 10, 0, 0, 0, 0, 0, 0, 0, 0, 0, 0, 0, 0, 0, 0, 0, 0, 0, 0, 0, 0, 0, 0, 0, 0, 0, 0, 0, 0, 0, 0, 0, 0, 0, 10, 0, 0, 0, 0, 0, 0, 0, 0, 0, 0, 0, 0, 0, 0, 0, 0, 0, 0, 0, 0, 0, 0, 0, 0, 0, 0, 0, 0, 0, 0, 0, 0, 0, 0, 0, 6, 8, 0, 0, 0, 0, 0, 0, 0, 0, 0, 0, 0, 0, 0, 0, 0, 0, 0, 0, 0, 0, 0, 0, 0, 0, 0, 0, 0, 0, 0, 0, 0, 0, 0, 0, 0, 0, 0, 0, 0, 0, 0, 0, 0, 0, 0, 0, 0, 0, 0, 0, 0, 0, 0, 0, 0, 0, 0, 0, 0, 0, 0, 0, 0, 0, 0, 0, 0, 1, 0, 0, 0, 0, 0, 0, 0, 0, 0, 0, 0, 0, 2, 0, 0, 0, 0, 0, 0, 0, 0, 0, 0, 0, 0, 0, 0, 0, 0, 0, 2, 0, 0, 0, 0, 0, 0, 0, 0, 0, 0, 0, 0, 0, 0, 0, 0, 0, 0, 0, 0, 0, 0, 0, 0, 0, 0, 0, 0, 0, 0, 0, 0, 0, 0, 0, 0, 0, 10, 0, 0, 0, 0, 0, 0, 0, 0, 0, 0, 0, 0, 0, 0, 0, 0, 0, 0, 0, 0, 0, 0, 0, 0, 0, 0, 0, 0, 0, 0, 0, 0, 0, 0, 0, 0, 0, 0, 0, 0, 0, 0, 0, 0, 0, 0, 0, 0, 0, 0, 0, 0, 0, 0, 0, 0, 0, 0, 0, 0, 0, 0, 0, 0, 0, 0, 0, 0, 0, 0, 0, 0, 0, 0, 0, 0, 0, 0, 0, 0, 0, 0, 0, 0, 0, 0, 0, 0, 0, 0, 0, 4, 0, 0, 0, 0, 0, 0, 0, 0, 0, 0, 0, 0, 0, 0, 0, 0, 0, 0, 0, 0, 0, 0, 0, 0, 0, 0, 0, 0, 0, 0, 0, 0, 0, 0, 0, 0, 0, 0, 0, 0, 0, 0, 0, 0, 0, 0, 0, 0, 0, 0, 0, 0, 0, 0, 0, 0, 7, 0, 0, 0, 0, 0, 0, 0, 0, 6, 0, 0, 0, 0, 0, 0, 0, 0, 3, 8, 0, 0, 0, 0, 0, 0, 0, 0, 0, 0, 0, 0, 0, 0, 0, 0, 0, 0, 0, 0, 0, 0, 0, 0, 0, 0, 0, 0, 0, 0, 0, 3, 0, 0, 0, 0, 0, 0, 0, 0, 0, 0, 0, 0, 0, 0, 0, 0, 0, 0, 0, 0, 0, 0, 0, 0, 0, 0, 0, 0, 0, 0, 0, 0, 0, 0, 0, 0, 0, 0, 0, 0, 0, 0, 0, 0, 0, 0, 0, 0, 0, 0, 0, 0, 0, 0, 0, 0, 0, 0, 0, 0, 0, 0, 0, 0, 8, 0, 0, 0, 0, 0, 0, 0, 0, 0, 0, 0, 0, 0, 0, 0, 0, 0, 0, 0, 0, 0, 0, 0, 0, 0, 0, 0, 0, 0, 0, 0, 0, 0, 0, 0, 0, 0, 0, 0, 0, 0, 0, 0, 0, 0, 0, 0, 0, 0, 0, 0, 0, 0, 0, 0, 0, 0, 0, 0, 0, 0, 0, 0, 0, 0]\n",
      "路径数的平均值： 0.3036963036963037\n"
     ]
    }
   ],
   "source": [
    "#5.1Path counting\n",
    "\n",
    "import numpy as np\n",
    "import random\n",
    "#Create a random matrix with N rows and M columns,M=4,N=4,the elements in matrix with 0 and 1\n",
    "arr1=np.random.randint(0,2,16).reshape(4,4)\n",
    "#replace the right-bottom corner and top-left corner cells with 1\n",
    "arr1[0,0]=1\n",
    "arr1[-1,-1]=1\n",
    "print('5.1题：\\n',arr1)\n",
    "\n",
    "#5.2Path counting\n",
    "#第二版\n",
    "import numpy as np\n",
    "import random\n",
    "\n",
    "N=int(input('5.2题请输入N的值：'))\n",
    "M=int(input('5.2题请输入M的值：'))\n",
    "arr2=np.random.randint(0,2,M*N).reshape(N,M)\n",
    "arr2[0,0]=1\n",
    "arr2[-1,-1]=1\n",
    "print(arr2)\n",
    "#申涵告诉我这种方法，创建一个空的矩阵，来存储路径数，总体是递归的方法\n",
    "def Count_path(matrix):\n",
    "    intinal=np.zeros((N,M),dtype = int) #创建一个初始化矩阵，用来存放路径数\n",
    "    for i in range(0, N):   #在1-N行中，如果有0，就结束循环         \n",
    "        if matrix[i,0] == 0:\n",
    "            break\n",
    "        else:\n",
    "            intinal[i,0] = matrix[i,0]  #如果这行中元素不等于0，初始化矩阵的元素对应等于矩阵的元素，也就是1\n",
    "            \n",
    "    for j in range(0,M):            \n",
    "        if matrix[0,j] == 0:  #同理，在1-M列中，如果有0，就结束循环 \n",
    "            break\n",
    "        else:\n",
    "            intinal[0,j] = matrix[0,j]  #如果这列中元素不等于0，初始化矩阵的元素对应等于矩阵的元素，也就是1\n",
    "            \n",
    "            \n",
    "    for i in range(1, N):           \n",
    "        for j in range(1,M):  #从第二行第二列的位置开始\n",
    "            if matrix[i,j] == 1:\n",
    "                intinal[i,j] = intinal[i - 1,j] + intinal[i,j - 1]  #如果[i,j]位置是1，对应的初始化矩阵等于上方加左方数值的和\n",
    "    return intinal[-1,-1]  #返回右下角的值，就是最终路径数\n",
    "\n",
    "print('路径数为：',Count_path(arr2))\n",
    "\n",
    "#5.3\n",
    "res=[] #创建一个空的列表用于之后存放路径数\n",
    "N=int(input('5.3题请输入N的值：'))\n",
    "M=int(input('5.3题请输入M的值：'))\n",
    "for i in range(0,1001):\n",
    "    arr3=np.random.randint(0,2,M*N).reshape(N,M)\n",
    "    arr3[0,0]=1\n",
    "    arr3[-1,-1]=1\n",
    "    res.append(Count_path(arr3))\n",
    "    \n",
    "print(res)\n",
    "avg=np.average(res)\n",
    "print('路径数的平均值：',avg)"
   ]
  }
 ],
 "metadata": {
  "kernelspec": {
   "display_name": "Python 3 (ipykernel)",
   "language": "python",
   "name": "python3"
  },
  "language_info": {
   "codemirror_mode": {
    "name": "ipython",
    "version": 3
   },
   "file_extension": ".py",
   "mimetype": "text/x-python",
   "name": "python",
   "nbconvert_exporter": "python",
   "pygments_lexer": "ipython3",
   "version": "3.9.12"
  }
 },
 "nbformat": 4,
 "nbformat_minor": 5
}
